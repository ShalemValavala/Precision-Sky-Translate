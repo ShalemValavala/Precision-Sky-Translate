{
 "cells": [
  {
   "cell_type": "code",
   "execution_count": null,
   "id": "cd27a90e",
   "metadata": {},
   "outputs": [],
   "source": [
    "# Installat"
   ]
  },
  {
   "cell_type": "markdown",
   "id": "29604208",
   "metadata": {},
   "source": [
    "# Imports and Setup"
   ]
  },
  {
   "cell_type": "code",
   "execution_count": null,
   "id": "0b4cbb27",
   "metadata": {},
   "outputs": [],
   "source": [
    "# Imports and Setup\n",
    "import tkinter as tk\n",
    "from tkinter import messagebox\n",
    "import speech_recognition as sr\n",
    "from googletrans import Translator\n",
    "import noisereduce\n",
    "import numpy as np\n"
   ]
  },
  {
   "cell_type": "markdown",
   "id": "d1629cac",
   "metadata": {},
   "source": [
    "# User Interface Units"
   ]
  },
  {
   "cell_type": "code",
   "execution_count": null,
   "id": "ebddaf41",
   "metadata": {},
   "outputs": [],
   "source": [
    "\n",
    "class DynamicUI:\n",
    "    def __init__(self, root, translation_app, role):\n",
    "        self.root = root\n",
    "        self.translation_app = translation_app\n",
    "        self.role = role\n",
    "        self.create_ui()\n",
    "\n",
    "    def create_ui(self):\n",
    "        self.message_label = tk.Label(self.root, text=f\"{self.role.capitalize()}: Speak in {'English' if self.role == 'sender' else 'Hindi'}:\")\n",
    "        self.message_label.pack()\n",
    "\n",
    "        self.message_entry = tk.Entry(self.root)\n",
    "        self.message_entry.pack()\n",
    "\n",
    "        self.recognize_button = tk.Button(self.root, text=\"Recognize\", command=self.recognize_speech)\n",
    "        self.recognize_button.pack()\n",
    "\n",
    "    def recognize_speech(self):\n",
    "        recognizer = sr.Recognizer()\n",
    "        with sr.Microphone() as source:\n",
    "            try:\n",
    "                audio = recognizer.listen(source, timeout=5)\n",
    "\n",
    "                # Apply noise reduction\n",
    "                audio_data = np.frombuffer(audio.frame_data, dtype=np.int16)\n",
    "                sr_value = audio.sample_rate  # Get sample rate\n",
    "                reduced_noise = noisereduce.reduce_noise(audio_data, sr_value)\n",
    "                reduced_audio = sr.AudioData(reduced_noise.tobytes(), audio.sample_rate, audio.sample_width)\n",
    "\n",
    "                message = recognizer.recognize_google(reduced_audio, language=\"en\" if self.role == 'sender' else \"hi-IN\")\n",
    "                self.message_entry.delete(0, tk.END)\n",
    "                self.message_entry.insert(0, message)\n",
    "                messagebox.showinfo(f\"{self.role.capitalize()} Message\", f\"{self.role.capitalize()}: {message}\")\n",
    "\n",
    "                if self.role == 'sender':\n",
    "                    translated_message = self.translate_message(message, source_lang=\"en\", target_lang=\"hi\")\n",
    "                    self.translation_app.receive_translated_message(self.role, translated_message)\n",
    "                else:\n",
    "                    self.translation_app.receive_translated_response(self.role, message)\n",
    "\n",
    "            except sr.UnknownValueError:\n",
    "                messagebox.showwarning(\"Recognition Error\", \"Could not understand audio.\")\n",
    "            except sr.RequestError as e:\n",
    "                messagebox.showerror(\"Recognition Error\", f\"Error with the speech recognition service; {e}\")\n",
    "\n",
    "    def translate_message(self, message, source_lang, target_lang):\n",
    "        translator = Translator()\n",
    "        translated_message = translator.translate(message, src=source_lang, dest=target_lang).text\n",
    "        return translated_message\n",
    "\n",
    "class TranslationApp:\n",
    "    def __init__(self, root):\n",
    "        self.root = root\n",
    "        self.root.title(\"Dynamic Translation App\")\n",
    "\n",
    "        # Create Sender UI\n",
    "        sender_frame = tk.Frame(root)\n",
    "        self.sender_ui = DynamicUI(sender_frame, self, role='sender')\n",
    "        sender_frame.pack(side=tk.LEFT)\n",
    "\n",
    "        # Create Receiver UI\n",
    "        receiver_frame = tk.Frame(root)\n",
    "        self.receiver_ui = DynamicUI(receiver_frame, self, role='receiver')\n",
    "        receiver_frame.pack(side=tk.RIGHT)\n",
    "\n",
    "    def receive_translated_message(self, role, translated_message):\n",
    "        if role == 'sender':\n",
    "            self.receiver_ui.message_entry.delete(0, tk.END)\n",
    "            self.receiver_ui.message_entry.insert(0, translated_message)\n",
    "            messagebox.showinfo(\"Receiver Message\", f\"Receiver: {translated_message}\")\n",
    "        else:\n",
    "            self.sender_ui.message_entry.delete(0, tk.END)\n",
    "            self.sender_ui.message_entry.insert(0, translated_message)\n",
    "            messagebox.showinfo(\"Sender Message\", f\"Sender: {translated_message}\")\n",
    "\n",
    "    def receive_translated_response(self, role, translated_response):\n",
    "        if role == 'receiver':\n",
    "            translated_message = self.translate_message(translated_response, source_lang=\"hi\", target_lang=\"en\")\n",
    "            self.sender_ui.message_entry.delete(0, tk.END)\n",
    "            self.sender_ui.message_entry.insert(0, translated_message)\n",
    "            messagebox.showinfo(\"Sender Message\", f\"Sender: {translated_message}\")\n",
    "        else:\n",
    "            self.receiver_ui.message_entry.delete(0, tk.END)\n",
    "            self.receiver_ui.message_entry.insert(0, translated_response)\n",
    "            messagebox.showinfo(\"Receiver Message\", f\"Receiver: {translated_response}\")\n",
    "\n",
    "    def translate_message(self, message, source_lang, target_lang):\n",
    "        translator = Translator()\n",
    "        translated_message = translator.translate(message, src=source_lang, dest=target_lang).text\n",
    "        return translated_message\n"
   ]
  },
  {
   "cell_type": "markdown",
   "id": "00bc7c85",
   "metadata": {},
   "source": [
    "# Main Application Loop"
   ]
  },
  {
   "cell_type": "code",
   "execution_count": null,
   "id": "634daa68",
   "metadata": {},
   "outputs": [],
   "source": [
    "\n",
    "if __name__ == \"__main__\":\n",
    "    root = tk.Tk()\n",
    "    app = TranslationApp(root)\n",
    "    root.mainloop()"
   ]
  }
 ],
 "metadata": {
  "kernelspec": {
   "display_name": "Python 3 (ipykernel)",
   "language": "python",
   "name": "python3"
  },
  "language_info": {
   "codemirror_mode": {
    "name": "ipython",
    "version": 3
   },
   "file_extension": ".py",
   "mimetype": "text/x-python",
   "name": "python",
   "nbconvert_exporter": "python",
   "pygments_lexer": "ipython3",
   "version": "3.9.12"
  }
 },
 "nbformat": 4,
 "nbformat_minor": 5
}
